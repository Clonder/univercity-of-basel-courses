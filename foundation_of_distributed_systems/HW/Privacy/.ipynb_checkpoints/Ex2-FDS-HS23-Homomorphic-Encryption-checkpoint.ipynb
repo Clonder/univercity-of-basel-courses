{
 "cells": [
  {
   "cell_type": "code",
   "execution_count": 1,
   "id": "dc7d2735",
   "metadata": {},
   "outputs": [],
   "source": [
    "import random\n",
    "bits = 128\n",
    "\n",
    "from collections import defaultdict\n",
    "from collections import namedtuple\n",
    "\n",
    "import secrets\n",
    "from typing import List, Tuple\n",
    "\n",
    "import numpy as np"
   ]
  },
  {
   "cell_type": "markdown",
   "id": "1c3e1b10",
   "metadata": {},
   "source": [
    "## 1\n",
    "\n",
    "### References:\n",
    "- [The ElGamal Cryptosystem](https://en.wikipedia.org/wiki/ElGamal_encryption)\n"
   ]
  },
  {
   "cell_type": "code",
   "execution_count": 167,
   "id": "b7b4744e",
   "metadata": {},
   "outputs": [],
   "source": [
    "def e_keygen(q):\n",
    "    # Public key: (q, g, h)\n",
    "    # (G is implicit here)\n",
    "    # Private key: x\n",
    "    x = random.randint(1, q - 1)\n",
    "    while True:\n",
    "        g = random.randint(2, q-1)\n",
    "        if np.gcd(g, q) == 1:\n",
    "            break\n",
    "    \n",
    "    h = pow(g,x,q)\n",
    "    sk = x\n",
    "    pk = (q, g, h)\n",
    "    return sk, pk\n",
    "\n",
    "    ##raise NotImplementedError()"
   ]
  },
  {
   "cell_type": "code",
   "execution_count": 168,
   "id": "261806b8",
   "metadata": {},
   "outputs": [],
   "source": [
    "def e_encrypt(msg, pk):\n",
    "    q, g, h = pk\n",
    "    m = msg\n",
    "    y = random.randint(1, q - 1)\n",
    "    s = pow(h,y,q)\n",
    "    c1 = pow(g,y,q)\n",
    "    c2 = (m * s) % q\n",
    "    return (c1,c2)\n",
    "\n",
    "    #raise NotImplementedError()"
   ]
  },
  {
   "cell_type": "code",
   "execution_count": 169,
   "id": "1cdeb1d4",
   "metadata": {},
   "outputs": [],
   "source": [
    "def e_decrypt(c, x, pk):\n",
    "    c1, c2 = c\n",
    "    q, g, h = pk\n",
    "    s = pow(c1,x, q)\n",
    "    s_inv = pow(s, -1, q)\n",
    "    m = c2 * s_inv\n",
    "    return m % q\n",
    "    \n",
    "\n",
    "    # YOUR CODE HERE\n",
    "    #raise NotImplementedError()"
   ]
  },
  {
   "cell_type": "code",
   "execution_count": 170,
   "id": "92f3fa87",
   "metadata": {},
   "outputs": [
    {
     "data": {
      "text/plain": [
       "50"
      ]
     },
     "execution_count": 170,
     "metadata": {},
     "output_type": "execute_result"
    }
   ],
   "source": [
    "# TEST CASE\n",
    "q = 2**127 - 1\n",
    "\n",
    "sk, pk = e_keygen(q)\n",
    "c = e_encrypt(50, pk)\n",
    "\n",
    "e_decrypt(c, sk, pk)"
   ]
  },
  {
   "cell_type": "code",
   "execution_count": 171,
   "id": "9048184c",
   "metadata": {},
   "outputs": [],
   "source": [
    "def e_mult(c1, c2, pk):\n",
    "    q, g, h = pk\n",
    "    c11, c12 = c1\n",
    "    c21, c22 = c2\n",
    "    c1 = (c11 * c21) % q\n",
    "    c2 = (c12 * c22) % q\n",
    "    return (c1, c2)\n",
    "    \n",
    "    # YOUR CODE HERE\n",
    "    #raise NotImplementedError()"
   ]
  },
  {
   "cell_type": "code",
   "execution_count": 172,
   "id": "0ea6e458",
   "metadata": {},
   "outputs": [],
   "source": [
    "# TEST CASE\n",
    "sk, pk = e_keygen(q)\n",
    "c1 = e_encrypt(5, pk)\n",
    "c2 = e_encrypt(10, pk)\n",
    "c3 = e_mult(c1, c2, pk)\n",
    "\n",
    "assert e_decrypt(c3, sk, pk) == 50"
   ]
  },
  {
   "cell_type": "markdown",
   "id": "1983fcdb",
   "metadata": {},
   "source": [
    "## 2"
   ]
  },
  {
   "cell_type": "markdown",
   "id": "33b07aba-a337-4123-9398-e613eb9ba100",
   "metadata": {},
   "source": [
    "Supported operations are addition of two ciphertext numbers (encrpyted numbers) and multiplication between a ciphertext number with a plaintext number. The Data Typ has to be integer since we use modulo to encrypt."
   ]
  },
  {
   "cell_type": "code",
   "execution_count": 173,
   "id": "4fc820c4",
   "metadata": {},
   "outputs": [],
   "source": [
    "PrivateKey = namedtuple(\"PrivateKey\", [\"lam\", \"mu\"])\n",
    "PublicKey = namedtuple(\"PublicKey\", [\"g\", \"n\", \"n_squared\"])\n",
    "\n",
    "DEFAULT_BIT_LENGTH = 32\n",
    "\n",
    "\n",
    "def generate_primes(n: int) -> List[int]:\n",
    "    # https://stackoverflow.com/questions/2068372/fastest-way-to-list-all-primes-below-n-in-python/3035188#3035188\n",
    "    \"\"\" Input n>=6, Returns an array of primes, 2 <= p < n \"\"\"\n",
    "    sieve = np.ones(n // 3 + (n % 6 == 2), dtype=bool)\n",
    "    for i in range(1, int(n ** 0.5) // 3 + 1):\n",
    "        if sieve[i]:\n",
    "            k = 3 * i + 1 | 1\n",
    "            sieve[k * k // 3 :: 2 * k] = False\n",
    "            sieve[k * (k - 2 * (i & 1) + 4) // 3 :: 2 * k] = False\n",
    "    primes = np.r_[2, 3, ((3 * np.nonzero(sieve)[0][1:] + 1) | 1)]\n",
    "    return [int(n) for n in primes]\n",
    "\n",
    "\n",
    "def L(n: int, x: int) -> int:\n",
    "    return (x - 1) // n\n",
    "\n",
    "\n",
    "def create_key_pair(\n",
    "    bit_length: int = DEFAULT_BIT_LENGTH,\n",
    ") -> Tuple[PrivateKey, PublicKey]:\n",
    "    primes = generate_primes(2 ** (bit_length // 2))\n",
    "\n",
    "    p = secrets.choice(primes)\n",
    "    q = secrets.choice(primes)\n",
    "    n = p * q\n",
    "\n",
    "    while p == q or n.bit_length() != bit_length or np.gcd(n, (p - 1) * (q - 1)) != 1:\n",
    "        p = secrets.choice(primes)\n",
    "        q = secrets.choice(primes)\n",
    "        n = p * q\n",
    "\n",
    "    n_squared = n ** 2\n",
    "    g = secrets.randbelow(n_squared - 1) + 1\n",
    "    public_key = PublicKey(g, n, n_squared)\n",
    "\n",
    "    lam = int(np.lcm(p - 1, q - 1))\n",
    "\n",
    "    try:\n",
    "        mu = pow(L(n, pow(g, lam, n_squared)), -1, n)\n",
    "    except ValueError:\n",
    "        return create_key_pair(bit_length)\n",
    "\n",
    "    private_key = PrivateKey(lam, mu)\n",
    "    return private_key, public_key\n",
    "\n",
    "\n",
    "def encrypt(public_key: PublicKey, plaintext: int) -> int:\n",
    "    g, n, n_squared = public_key\n",
    "    r = secrets.randbelow(n)\n",
    "    return (pow(g, plaintext, n_squared) * pow(r, n, n_squared)) % n_squared\n",
    "\n",
    "\n",
    "def decrypt(private_key: PrivateKey, public_key: PublicKey, ciphertext: int) -> int:\n",
    "    lam, mu = private_key\n",
    "    _, n, n_squared = public_key\n",
    "    return (L(n, pow(ciphertext, lam, n_squared)) * mu) % n\n",
    "\n",
    "\n",
    "def add(public_key: PublicKey, ciphertext_a: int, ciphertext_b: int) -> int:\n",
    "    return (ciphertext_a * ciphertext_b) % public_key.n_squared\n",
    "\n",
    "\n",
    "def multiply(public_key: PublicKey, ciphertext_a: int, plaintext_b: int) -> int:\n",
    "    if plaintext_b == 0:\n",
    "        return encrypt(public_key, 0)\n",
    "\n",
    "    if plaintext_b == 1:\n",
    "        encrypted_zero = encrypt(public_key, 0)\n",
    "        return add(public_key, ciphertext_a, encrypted_zero)\n",
    "\n",
    "    return pow(ciphertext_a, plaintext_b, public_key.n_squared)"
   ]
  },
  {
   "cell_type": "code",
   "execution_count": 174,
   "id": "71242773",
   "metadata": {},
   "outputs": [],
   "source": [
    "def encrypted_price_calculator(public_key: PublicKey, encrypted_cart: List[Tuple[int, int]],) -> int:\n",
    "    encrypted_total = encrypt(public_key, 0)\n",
    "    for price, quantity in encrypted_cart:\n",
    "        en_subtotal = multiply(public_key, price, quantity)\n",
    "        encrypted_total = add(public_key, en_subtotal, encrypted_total)\n",
    "    return encrypted_total\n"
   ]
  },
  {
   "cell_type": "code",
   "execution_count": 175,
   "id": "e520e945",
   "metadata": {},
   "outputs": [],
   "source": [
    "def shopping_cart_client(cart):\n",
    "    # TODO: your code here\n",
    "    sk, pk = create_key_pair()\n",
    "    encrypted_cart = []\n",
    "    for price, quantity in cart:\n",
    "        encrypted_price = encrypt(pk, price)\n",
    "        encrypted_cart.append((encrypted_price, quantity))\n",
    "    \n",
    "    total_en_cost = encrypted_price_calculator(pk, encrypted_cart)\n",
    "    total_cost = decrypt(sk, pk, total_en_cost)\n",
    "    return total_cost\n"
   ]
  },
  {
   "cell_type": "code",
   "execution_count": 176,
   "id": "efb599fd",
   "metadata": {},
   "outputs": [],
   "source": [
    "# TEST CASE\n",
    "cart = [\n",
    "    # (price, quantity)\n",
    "    (2000, 1),\n",
    "    (120, 5),\n",
    "    (1999, 3),\n",
    "]\n",
    "\n",
    "total_cost = shopping_cart_client(cart)\n",
    "expected_price = 8597\n",
    "assert total_cost == expected_price"
   ]
  },
  {
   "cell_type": "markdown",
   "id": "7b889904",
   "metadata": {},
   "source": [
    "## 3"
   ]
  },
  {
   "cell_type": "code",
   "execution_count": 255,
   "id": "8cd90bbb",
   "metadata": {},
   "outputs": [],
   "source": [
    "def e_encrypted_price_calculator(en_price, en_quantity, pk):\n",
    "    en_total = e_mult(en_price, en_quantity, pk)\n",
    "    return en_total\n"
   ]
  },
  {
   "cell_type": "code",
   "execution_count": 256,
   "id": "1174b762",
   "metadata": {},
   "outputs": [],
   "source": [
    "def e_shopping_cart_client(cart):\n",
    "    q = 2**127 - 1\n",
    "    sk, pk = e_keygen(q)\n",
    "    total_en = 0\n",
    "    for price, quantity in cart:\n",
    "        en_price = e_encrypt(price, pk)\n",
    "        en_quantity = e_encrypt(quantity, pk)\n",
    "        total_en += e_decrypt(e_encrypted_price_calculator(en_price, en_quantity, pk),sk ,pk)\n",
    "        \n",
    "    return total_en\n",
    "    "
   ]
  },
  {
   "cell_type": "code",
   "execution_count": 257,
   "id": "5557bba7",
   "metadata": {},
   "outputs": [],
   "source": [
    "# TEST CASE\n",
    "cart = [\n",
    "    # (price, quantity)\n",
    "    (2000, 1),\n",
    "    (120, 5),\n",
    "    (1999, 3),\n",
    "]\n",
    "\n",
    "total_cost = e_shopping_cart_client(cart)\n",
    "expected_price = 8597\n",
    "assert total_cost == expected_price"
   ]
  },
  {
   "cell_type": "markdown",
   "id": "5dc79bfb",
   "metadata": {},
   "source": [
    "Changes: For ElGamal the code had to be changed so that the additions do not happen in the encypted calculator. Instead, the quantity is encrypted and multiplied by the encrypted price.\n",
    "\n",
    "With Paillier, the calculator sees the quantity in plain text. The rest is encrypted.  For elgamal, everything is encrypted for the calculator. Therefore we have more privacy for the client with the elGamal calculator but there the client has to add the sums itself."
   ]
  },
  {
   "cell_type": "markdown",
   "id": "a2a1849f",
   "metadata": {},
   "source": [
    "## 4"
   ]
  },
  {
   "cell_type": "code",
   "execution_count": 306,
   "id": "f69f07ab",
   "metadata": {},
   "outputs": [
    {
     "name": "stdout",
     "output_type": "stream",
     "text": [
      "Evaluation of mean (plain) = 4.333333333333333, homomorphically = 4\n"
     ]
    }
   ],
   "source": [
    "import concrete.numpy as cnp\n",
    "\n",
    "@cnp.compiler({\"x\": \"encrypted\"})\n",
    "def add(x):\n",
    "    return np.sum(x) // 6\n",
    "\n",
    "example = [[1, 7, 4, 5, 5, 4]]\n",
    "\n",
    "circuit = add.compile(example)\n",
    "\n",
    "result = circuit.encrypt_run_decrypt(*example)\n",
    "\n",
    "clear_evaluation = np.mean(example)\n",
    "print(f\"Evaluation of mean (plain) = {clear_evaluation}, homomorphically = {result}\")"
   ]
  },
  {
   "cell_type": "code",
   "execution_count": 207,
   "id": "581dc661",
   "metadata": {},
   "outputs": [],
   "source": [
    "def homomorphic_mean2(x, circuit):\n",
    "    encripted_array = []\n",
    "    ctxtSum = 0\n",
    "    for i in x:\n",
    "        value = np.array([i], dtype=np.float64)\n",
    "        ctxt_value = circuit.encryptFrac(value)\n",
    "        encripted_array.append(ctxt_value)\n",
    "        ctxtSum += ctxt_value\n",
    "\n",
    "    mean_of_array = ctxtSum / 6\n",
    "    \n",
    "    resSum = circuit.decryptFrac(mean_of_array)\n",
    "    \n",
    "    return round(resSum[0],2)\n",
    "    \n",
    "def generate_cnp_circuit2():\n",
    "    HE = Pyfhel()           \n",
    "    ckks_params = {\n",
    "        'scheme': 'CKKS',  \n",
    "        'n': 2**14,                 \n",
    "        'scale': 2**30,     \n",
    "        'qi_sizes': [60, 30, 30, 30, 60]  \n",
    "    }\n",
    "    HE.contextGen(**ckks_params)  # Generate context for ckks scheme\n",
    "    HE.keyGen()             # Key Generation: generates a pair of public/secret keys\n",
    "    HE.rotateKeyGen()\n",
    "    return HE"
   ]
  },
  {
   "cell_type": "code",
   "execution_count": 208,
   "id": "cdf78a29",
   "metadata": {},
   "outputs": [
    {
     "name": "stdout",
     "output_type": "stream",
     "text": [
      "Evaluation of mean (plain) = 4.333333333333333, homomorphically = 4.33\n"
     ]
    }
   ],
   "source": [
    "example = [1, 7, 4, 5, 5, 4]\n",
    "circuit2 = generate_cnp_circuit2()\n",
    "homomorphic_evaluation = homomorphic_mean2(example, circuit2)\n",
    "clear_evaluation = np.mean(example)\n",
    "print(f\"Evaluation of mean (plain) = {clear_evaluation}, homomorphically = {homomorphic_evaluation}\")"
   ]
  },
  {
   "cell_type": "markdown",
   "id": "c10ee2f7-fb12-420b-9f99-6bfe975111f5",
   "metadata": {},
   "source": [
    "0. With only integer we don't have floats, so we have to work with ints only, that's why we have 4 and not 4.3, it is huge limitation.\n",
    "1. Also another limitation that we have to know the length of the array.\n",
    "2. Moreover, to have more accurate solution we use SHE CKKS in the second implementation that allowed us have almost the same solutions, but the main difference between SHE and FHE lies in the extent of operations allowed on encrypted data without decryption. SHE allows limited operations (usually either addition or multiplication), while FHE enables a broader range of operations without compromising security.\n",
    "3. We can obtain the mean using our second approach and using floats."
   ]
  },
  {
   "cell_type": "code",
   "execution_count": null,
   "id": "d66c4579-5f3f-4b2e-a087-2234ebd22197",
   "metadata": {},
   "outputs": [],
   "source": []
  }
 ],
 "metadata": {
  "kernelspec": {
   "display_name": "Python 3 (ipykernel)",
   "language": "python",
   "name": "python3"
  },
  "language_info": {
   "codemirror_mode": {
    "name": "ipython",
    "version": 3
   },
   "file_extension": ".py",
   "mimetype": "text/x-python",
   "name": "python",
   "nbconvert_exporter": "python",
   "pygments_lexer": "ipython3",
   "version": "3.10.12"
  }
 },
 "nbformat": 4,
 "nbformat_minor": 5
}
