{
 "cells": [
  {
   "cell_type": "code",
   "execution_count": 17,
   "id": "40c3e39f",
   "metadata": {},
   "outputs": [],
   "source": [
    "# Load the data and libraries\n",
    "import pandas as pd\n",
    "import numpy as np\n",
    "from scipy import stats\n",
    "import matplotlib.pyplot as plt\n",
    "plt.style.use('seaborn-whitegrid')\n",
    "url='https://raw.githubusercontent.com/westonsfiala/ECEP595/master/lab3/adult_with_pii.csv'\n",
    "\n",
    "adult = pd.read_csv(url)"
   ]
  },
  {
   "cell_type": "markdown",
   "id": "24f2ace1",
   "metadata": {},
   "source": [
    "## 1"
   ]
  },
  {
   "cell_type": "code",
   "execution_count": 18,
   "id": "59c94b9b",
   "metadata": {},
   "outputs": [],
   "source": [
    "def selina_query():\n",
    "    # TODO: YOUR CODE HERE\n",
    "    selinas_row = adult[adult['Name'] == 'Selina Barkworth']\n",
    "    return selinas_row[selinas_row['Age'] == 30].shape[0]"
   ]
  },
  {
   "cell_type": "code",
   "execution_count": 19,
   "id": "73007419",
   "metadata": {},
   "outputs": [],
   "source": [
    "assert selina_query() == 1"
   ]
  },
  {
   "cell_type": "markdown",
   "id": "ed227046",
   "metadata": {},
   "source": [
    "## 2"
   ]
  },
  {
   "cell_type": "code",
   "execution_count": 53,
   "id": "847b3c37",
   "metadata": {},
   "outputs": [],
   "source": [
    "epsilon = 1.0\n",
    "def dp_selina_query():\n",
    "    sensitivity = 1\n",
    "    selinas_row = adult[adult['Name'] == 'Selina Barkworth']\n",
    "    return selinas_row[selinas_row['Age'] == 30].shape[0] + np.random.laplace(loc=0, scale= sensitivity/epsilon)\n",
    "  "
   ]
  },
  {
   "cell_type": "code",
   "execution_count": 54,
   "id": "dea6648a",
   "metadata": {},
   "outputs": [],
   "source": [
    "q2_runs = [dp_selina_query() for _ in range(100)]\n",
    "noise_runs = [np.random.laplace(loc=1, scale=1/epsilon) for _ in range(100)]\n",
    "\n",
    "assert stats.wasserstein_distance(q2_runs, noise_runs) < 1"
   ]
  },
  {
   "cell_type": "markdown",
   "id": "3ce53bb0",
   "metadata": {},
   "source": [
    "## 3"
   ]
  },
  {
   "cell_type": "markdown",
   "id": "93dbe14d",
   "metadata": {},
   "source": [
    "The attacker tries to find out whether Selina is 30 or not. However, this is prevented by adding laplace noise to the result (which is 1). The sensitivity here is 1. since 1 is the smallest difference for two neighbouring tables if we use count queries. The original value can no longer be reconstructed due to the noise. And due to the mechanism described above, it is no longer possible to distinguish whether a certain value (in our case whether Selina is 30) is in the database or not. "
   ]
  },
  {
   "cell_type": "markdown",
   "id": "20195436",
   "metadata": {},
   "source": [
    "##  4"
   ]
  },
  {
   "cell_type": "code",
   "execution_count": 22,
   "id": "9f4050cd",
   "metadata": {},
   "outputs": [
    {
     "name": "stdout",
     "output_type": "stream",
     "text": [
      "1.537794097314211 0.49696320800424454 0.8352578711013197\n"
     ]
    }
   ],
   "source": [
    "epsilon1 = 1.0\n",
    "epsilon2 = 2.0\n",
    "counting_query = lambda: 1\n",
    "\n",
    "result_1 = counting_query() + np.random.laplace(loc=0, scale=1/epsilon1)\n",
    "result_2 = counting_query() + np.random.laplace(loc=0, scale=1/epsilon2)\n",
    "result_3 = counting_query() + np.random.laplace(loc=0, scale=1/epsilon1)\n",
    "\n",
    "print(result_1, result_2, result_3)"
   ]
  },
  {
   "cell_type": "code",
   "execution_count": 44,
   "id": "daa11577",
   "metadata": {},
   "outputs": [
    {
     "data": {
      "text/plain": [
       "4.0"
      ]
     },
     "execution_count": 44,
     "metadata": {},
     "output_type": "execute_result"
    }
   ],
   "source": [
    "def total_epsilon():\n",
    "    return epsilon1 + epsilon1 + epsilon2\n",
    "\n",
    "total_epsilonlon()"
   ]
  },
  {
   "cell_type": "markdown",
   "id": "87682a3e",
   "metadata": {},
   "source": [
    " We used the sequential composition property. Formally for two mechanisms, the first one eps1-DP second one eps2 DP, performing on the same data we can define a new mechanism which is (eps1 + eps2)-DP."
   ]
  },
  {
   "cell_type": "markdown",
   "id": "972ad589",
   "metadata": {},
   "source": [
    "## 5"
   ]
  },
  {
   "cell_type": "code",
   "execution_count": 24,
   "id": "65f50709",
   "metadata": {},
   "outputs": [
    {
     "data": {
      "image/png": "[encoded data removed]",
      "text/plain": [
       "<Figure size 432x288 with 1 Axes>"
      ]
     },
     "metadata": {},
     "output_type": "display_data"
    }
   ],
   "source": [
    "def empirical_dist_lap(scale):\n",
    "    # YOUR CODE HERE\n",
    "    return np.random.laplace(loc=0, scale=scale, size = 1000)\n",
    "    #return [np.random.laplace(loc=0, scale=scale) for _ in range (1000)]\n",
    "    \n",
    "\n",
    "epsilon1 = 1.0\n",
    "epsilon2 = 2.0\n",
    "\n",
    "plt.hist(empirical_dist_lap(1/epsilon1), bins=50);\n",
    "plt.hist(empirical_dist_lap(1/epsilon2), bins=50, alpha=.7);"
   ]
  },
  {
   "cell_type": "markdown",
   "id": "861fef8f",
   "metadata": {},
   "source": [
    "Orange histogram is with epsilon2. And the blue histogramm is the on with epsilon1.\n",
    "For the blue one the width is wider than the orange one. That means for eps1 we add more noise to the real value than for the case with epsilon2. Therefore the result manipulated with epsilon2 will be nearer to re real value than with eps1(blue) but this means also less privacy for epsilon1(orange) than epsilon2(blue)."
   ]
  },
  {
   "cell_type": "markdown",
   "id": "620a4832",
   "metadata": {},
   "source": [
    "## 6"
   ]
  },
  {
   "cell_type": "code",
   "execution_count": 25,
   "id": "77874ba4",
   "metadata": {
    "scrolled": true
   },
   "outputs": [
    {
     "data": {
      "text/plain": [
       "HS-grad         10501\n",
       "Some-college     7291\n",
       "Bachelors        5355\n",
       "Masters          1723\n",
       "Assoc-voc        1382\n",
       "11th             1175\n",
       "Assoc-acdm       1067\n",
       "10th              933\n",
       "7th-8th           646\n",
       "Prof-school       576\n",
       "9th               514\n",
       "12th              433\n",
       "Doctorate         413\n",
       "5th-6th           333\n",
       "1st-4th           168\n",
       "Preschool          51\n",
       "Name: Education, dtype: int64"
      ]
     },
     "execution_count": 25,
     "metadata": {},
     "output_type": "execute_result"
    }
   ],
   "source": [
    "def education_hist():\n",
    "    # YOUR CODE HERE\n",
    "    return adult.Education.value_counts()\n",
    "\n",
    "education_hist()"
   ]
  },
  {
   "cell_type": "code",
   "execution_count": 49,
   "id": "4fb895da",
   "metadata": {},
   "outputs": [],
   "source": [
    "# TEST CASE\n",
    "h = education_hist()\n",
    "assert h['HS-grad'] == 10501\n",
    "assert h['12th'] == 433\n",
    "assert h['Doctorate'] == 413"
   ]
  },
  {
   "cell_type": "code",
   "execution_count": 26,
   "id": "898b6365",
   "metadata": {},
   "outputs": [
    {
     "data": {
      "text/plain": [
       "HS-grad         10499.693015\n",
       "Some-college     7276.792514\n",
       "Bachelors        5355.964939\n",
       "Masters          1724.665648\n",
       "Assoc-voc        1393.838598\n",
       "11th             1183.479138\n",
       "Assoc-acdm       1063.627596\n",
       "10th              935.653833\n",
       "7th-8th           649.433866\n",
       "Prof-school       577.847415\n",
       "9th               515.768587\n",
       "12th              415.097685\n",
       "Doctorate         413.618850\n",
       "5th-6th           331.849350\n",
       "1st-4th           165.111810\n",
       "Preschool          42.954390\n",
       "Name: Education, dtype: float64"
      ]
     },
     "execution_count": 26,
     "metadata": {},
     "output_type": "execute_result"
    }
   ],
   "source": [
    "def dp_education_hist(epsilon):\n",
    "    # YOUR CODE HERE\n",
    "    #return adult.Education.value_counts() + np.random.laplace(loc=0, scale=1/epsilon)\n",
    "    return education_hist().map(lambda x:x+np.random.laplace(loc=0, scale=1/epsilon))\n",
    "    \n",
    "dp_education_hist(0.1)"
   ]
  },
  {
   "cell_type": "code",
   "execution_count": 27,
   "id": "a9a63268",
   "metadata": {},
   "outputs": [],
   "source": [
    "# TEST CASE\n",
    "h = dp_education_hist(1.0)\n",
    "assert abs(h['HS-grad'] - 10501) < 100\n",
    "assert abs(h['Doctorate'] - 413) < 100"
   ]
  },
  {
   "cell_type": "markdown",
   "id": "d5ca7efb",
   "metadata": {},
   "source": [
    "Privacy cost is only epsilon since our data is split in k disjoints junks. And we use the mechanism on all these different disjoint junks. That means each row X is only in one chunk and the mechanism sees the data only once therefore we have a parallel composition. \n"
   ]
  },
  {
   "cell_type": "code",
   "execution_count": 39,
   "id": "530f8a87",
   "metadata": {},
   "outputs": [
    {
     "data": {
      "text/plain": [
       "1256725.183845095"
      ]
     },
     "execution_count": 39,
     "metadata": {},
     "output_type": "execute_result"
    }
   ],
   "source": [
    "def dp_age_sum_clipping(epsilon, b):\n",
    "    # TODO: YOUR CODE HERE\n",
    "    #raise NotImplementedError()\n",
    "    age = adult[\"Age\"]\n",
    "    age_clipped = np.clip(age, 0, b)\n",
    "    return sum(age_clipped) + np.random.laplace(loc=0, scale=b/epsilon)\n",
    "\n",
    "dp_age_sum_clipping(1.0, 100)"
   ]
  },
  {
   "cell_type": "code",
   "execution_count": 40,
   "id": "86523c30",
   "metadata": {},
   "outputs": [
    {
     "data": {
      "text/plain": [
       "[<matplotlib.lines.Line2D at 0x2d32ef4cbe0>]"
      ]
     },
     "execution_count": 40,
     "metadata": {},
     "output_type": "execute_result"
    },
    {
     "data": {
      "image/png": "[encoded data removed]",
      "text/plain": [
       "<Figure size 432x288 with 1 Axes>"
      ]
     },
     "metadata": {},
     "output_type": "display_data"
    }
   ],
   "source": [
    "# TODO: Visualize noisy sums of ages\n",
    "#x = [dp_age_sum_clipping(0.01, b) for b in range(125)]\n",
    "#plt.plot(x)\n",
    "\n",
    "bs=np.linspace(1,125, 100)\n",
    "results = [dp_age_sum_clipping(0.01, b) for b in bs]\n",
    "plt.plot(bs, results)"
   ]
  },
  {
   "cell_type": "code",
   "execution_count": 41,
   "id": "fc238bb7",
   "metadata": {},
   "outputs": [],
   "source": [
    "def dp_mean_age(epsilon, b):\n",
    "    # TODO: YOUR CODE HERE\n",
    "    noisy_age_sum = dp_age_sum_clipping(epsilon/2, b)\n",
    "    noisy_count = len(adult) + np.random.laplace(0,epsilon/2)\n",
    "    \n",
    "    return noisy_age_sum / noisy_count"
   ]
  },
  {
   "cell_type": "code",
   "execution_count": 42,
   "id": "bdfda7eb",
   "metadata": {},
   "outputs": [],
   "source": [
    "# TEST CASE for question 7\n",
    "results = [dp_age_sum_clipping(1.0, 100) for _ in range(100)]\n",
    "assert np.abs(np.mean(results) - adult['Age'].sum()) < 100\n",
    "ages = [dp_mean_age(0.1, 100) for _ in range(100)]\n",
    "assert np.abs(np.mean(ages) - adult['Age'].mean()) < 1"
   ]
  }
 ],
 "metadata": {
  "kernelspec": {
   "display_name": "Python 3 (ipykernel)",
   "language": "python",
   "name": "python3"
  },
  "language_info": {
   "codemirror_mode": {
    "name": "ipython",
    "version": 3
   },
   "file_extension": ".py",
   "mimetype": "text/x-python",
   "name": "python",
   "nbconvert_exporter": "python",
   "pygments_lexer": "ipython3",
   "version": "3.10.12"
  }
 },
 "nbformat": 4,
 "nbformat_minor": 5
}
